{
 "cells": [
  {
   "cell_type": "code",
   "id": "initial_id",
   "metadata": {
    "collapsed": true
   },
   "source": [
    "from llama_cpp import Llama\n",
    "\n",
    "# Load the GGUF model from the same directory\n",
    "llm = Llama(model_path=\"mistral-7b-instruct-v0.1.Q4_0.gguf\")"
   ],
   "outputs": [],
   "execution_count": null
  },
  {
   "metadata": {},
   "cell_type": "code",
   "source": [
    "docs = [\n",
    "    \"Install Python: Download and install Python from python.org, then add it to PATH.\",\n",
    "    \"Set up a virtual environment: Run 'python -m venv env' and activate it using 'source env/bin/activate' (Mac/Linux) or 'env\\\\Scripts\\\\activate' (Windows).\",\n",
    "    \"Install dependencies: Use 'pip install -r requirements.txt' to install project dependencies.\",\n",
    "    \"Debugging in Python: Use 'import pdb; pdb.set_trace()' to add breakpoints in your code.\",\n",
    "    \"Git commit: Stage changes with 'git add .' and commit with 'git commit -m \\\"Your message\\\"'.\",\n",
    "    \"Create a new Git branch: Use 'git checkout -b branch_name' to create and switch to a new branch.\",\n",
    "    \"Merge branches in Git: Use 'git merge branch_name' while on the main branch.\",\n",
    "    \"Fix merge conflicts: Open conflicting files, edit manually, then run 'git add .' and 'git commit'.\",\n",
    "    \"Set up Flask app: Create 'app.py', install Flask with 'pip install flask', and run with 'flask run'.\",\n",
    "    \"Connect to a database: Use SQLAlchemy in Python with 'from sqlalchemy import create_engine'.\",\n",
    "    \"Dockerize an application: Create a 'Dockerfile', build with 'docker build -t app .' and run with 'docker run -p 5000:5000 app'.\",\n",
    "    \"Deploy a web app: Use services like Heroku, AWS, or DigitalOcean to deploy applications.\",\n",
    "    \"Write unit tests: Use 'unittest' or 'pytest' for writing and running test cases.\",\n",
    "    \"REST API best practices: Use proper HTTP methods (GET, POST, PUT, DELETE) and return meaningful status codes.\",\n",
    "    \"Optimize SQL queries: Use indexing, avoid SELECT *, and use EXPLAIN ANALYZE to check performance.\",\n",
    "    \"Handle errors in Python: Use 'try-except' blocks to catch exceptions and log errors.\",\n",
    "    \"Use environment variables: Store secrets in '.env' and load them with 'dotenv' or 'os.getenv()'.\",\n",
    "    \"Create a Python package: Structure your project, add '__init__.py', and use 'setup.py' to package it.\",\n",
    "    \"Optimize Python performance: Use list comprehensions, generators, and built-in functions for efficiency.\",\n",
    "    \"Write clean code: Follow PEP 8 guidelines, use meaningful variable names, and document functions properly.\"\n",
    "]"
   ],
   "id": "9687316a5743341c",
   "outputs": [],
   "execution_count": null
  },
  {
   "metadata": {},
   "cell_type": "code",
   "source": [
    "from sentence_transformers import SentenceTransformer\n",
    "import faiss\n",
    "import numpy as np\n",
    "\n",
    "# Load an embedding model (fast & small)\n",
    "embedding_model = SentenceTransformer(\"all-MiniLM-L6-v2\")\n",
    "\n",
    "# Convert docs to embeddings\n",
    "doc_embeddings = embedding_model.encode(docs)\n",
    "\n",
    "# Create a FAISS index (L2 distance for similarity)\n",
    "index = faiss.IndexFlatL2(doc_embeddings.shape[1])\n",
    "index.add(np.array(doc_embeddings))  # Add document embeddings"
   ],
   "id": "b3480c5dde294d29",
   "outputs": [],
   "execution_count": null
  },
  {
   "metadata": {},
   "cell_type": "code",
   "source": [
    "def retrieve_relevant_docs(query, top_k=1):\n",
    "    query_embedding = embedding_model.encode([query])\n",
    "    distances, indices = index.search(np.array(query_embedding), top_k)\n",
    "    return [docs[i] for i in indices[0]]"
   ],
   "id": "c903a1a3996905f8",
   "outputs": [],
   "execution_count": null
  },
  {
   "metadata": {},
   "cell_type": "code",
   "source": [
    "# Example user query\n",
    "query = input(\"Enter query: \")\n",
    "print(query)\n",
    "retrieved_docs = retrieve_relevant_docs(query)\n",
    "\n",
    "# Augment query with retrieved info\n",
    "context = \"\\n\".join(retrieved_docs)\n",
    "final_prompt = f\"Context: {context}\\n\\nQuestion: {query}\\n\\nAnswer:\"\n",
    "# print(final_prompt)\n",
    "\n",
    "response = llm(final_prompt, max_tokens=200)\n",
    "print(response[\"choices\"][0][\"text\"])"
   ],
   "id": "784a2147a806ec93",
   "outputs": [],
   "execution_count": null
  }
 ],
 "metadata": {
  "kernelspec": {
   "display_name": "Python 3",
   "language": "python",
   "name": "python3"
  },
  "language_info": {
   "codemirror_mode": {
    "name": "ipython",
    "version": 2
   },
   "file_extension": ".py",
   "mimetype": "text/x-python",
   "name": "python",
   "nbconvert_exporter": "python",
   "pygments_lexer": "ipython2",
   "version": "2.7.6"
  }
 },
 "nbformat": 4,
 "nbformat_minor": 5
}
